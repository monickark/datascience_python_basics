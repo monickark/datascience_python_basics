{
 "cells": [
  {
   "cell_type": "code",
   "execution_count": 1,
   "id": "20f2adbb",
   "metadata": {},
   "outputs": [
    {
     "name": "stdout",
     "output_type": "stream",
     "text": [
      "^C\n",
      "\n",
      "Note: you may need to restart the kernel to use updated packages.\n"
     ]
    }
   ],
   "source": [
    "conda install numpy"
   ]
  },
  {
   "cell_type": "code",
   "execution_count": 1,
   "id": "6e79ad1c",
   "metadata": {},
   "outputs": [],
   "source": [
    "import numpy as np"
   ]
  },
  {
   "cell_type": "code",
   "execution_count": 2,
   "id": "99ea9806",
   "metadata": {},
   "outputs": [],
   "source": [
    "my_list = [1,2,3,4,5]"
   ]
  },
  {
   "cell_type": "code",
   "execution_count": 3,
   "id": "25b110c8",
   "metadata": {},
   "outputs": [],
   "source": [
    "my_array = np.array(my_list)"
   ]
  },
  {
   "cell_type": "raw",
   "id": "21ddbc79",
   "metadata": {},
   "source": [
    "print(my_list)"
   ]
  },
  {
   "cell_type": "code",
   "execution_count": 5,
   "id": "2efd977f",
   "metadata": {},
   "outputs": [
    {
     "data": {
      "text/plain": [
       "array([1, 2, 3, 4, 5])"
      ]
     },
     "execution_count": 5,
     "metadata": {},
     "output_type": "execute_result"
    }
   ],
   "source": [
    "my_array"
   ]
  },
  {
   "cell_type": "code",
   "execution_count": 6,
   "id": "7c7fcfbf",
   "metadata": {},
   "outputs": [],
   "source": [
    "my_2darray = ([1,2,3,4],[5,6,7,8])"
   ]
  },
  {
   "cell_type": "code",
   "execution_count": 7,
   "id": "d4a68fee",
   "metadata": {},
   "outputs": [
    {
     "data": {
      "text/plain": [
       "([1, 2, 3, 4], [5, 6, 7, 8])"
      ]
     },
     "execution_count": 7,
     "metadata": {},
     "output_type": "execute_result"
    }
   ],
   "source": [
    "my_2darray"
   ]
  },
  {
   "cell_type": "code",
   "execution_count": 8,
   "id": "7216a1cf",
   "metadata": {},
   "outputs": [
    {
     "data": {
      "text/plain": [
       "2"
      ]
     },
     "execution_count": 8,
     "metadata": {},
     "output_type": "execute_result"
    }
   ],
   "source": [
    "my_array[1]"
   ]
  },
  {
   "cell_type": "code",
   "execution_count": 9,
   "id": "48b8f8e0",
   "metadata": {},
   "outputs": [
    {
     "data": {
      "text/plain": [
       "array([1, 2])"
      ]
     },
     "execution_count": 9,
     "metadata": {},
     "output_type": "execute_result"
    }
   ],
   "source": [
    "my_array[0:2]"
   ]
  },
  {
   "cell_type": "code",
   "execution_count": 10,
   "id": "13e12c4a",
   "metadata": {},
   "outputs": [
    {
     "data": {
      "text/plain": [
       "([1, 2, 3, 4], [5, 6, 7, 8])"
      ]
     },
     "execution_count": 10,
     "metadata": {},
     "output_type": "execute_result"
    }
   ],
   "source": [
    "my_2darray[0:2]"
   ]
  },
  {
   "cell_type": "code",
   "execution_count": 11,
   "id": "566f134f",
   "metadata": {},
   "outputs": [
    {
     "data": {
      "text/plain": [
       "()"
      ]
     },
     "execution_count": 11,
     "metadata": {},
     "output_type": "execute_result"
    }
   ],
   "source": [
    "my_2darray[:0]"
   ]
  },
  {
   "cell_type": "code",
   "execution_count": 12,
   "id": "cd536326",
   "metadata": {},
   "outputs": [
    {
     "ename": "TypeError",
     "evalue": "tuple indices must be integers or slices, not tuple",
     "output_type": "error",
     "traceback": [
      "\u001b[1;31m---------------------------------------------------------------------------\u001b[0m",
      "\u001b[1;31mTypeError\u001b[0m                                 Traceback (most recent call last)",
      "Cell \u001b[1;32mIn[12], line 1\u001b[0m\n\u001b[1;32m----> 1\u001b[0m my_2darray[:\u001b[38;5;241m1\u001b[39m,\u001b[38;5;241m0\u001b[39m]\n",
      "\u001b[1;31mTypeError\u001b[0m: tuple indices must be integers or slices, not tuple"
     ]
    }
   ],
   "source": [
    "my_2darray[:1,0]"
   ]
  },
  {
   "cell_type": "code",
   "execution_count": 13,
   "id": "4dfcb3ab",
   "metadata": {},
   "outputs": [
    {
     "ename": "TypeError",
     "evalue": "tuple indices must be integers or slices, not tuple",
     "output_type": "error",
     "traceback": [
      "\u001b[1;31m---------------------------------------------------------------------------\u001b[0m",
      "\u001b[1;31mTypeError\u001b[0m                                 Traceback (most recent call last)",
      "Cell \u001b[1;32mIn[13], line 1\u001b[0m\n\u001b[1;32m----> 1\u001b[0m my_2darray[:,\u001b[38;5;241m0\u001b[39m]\n",
      "\u001b[1;31mTypeError\u001b[0m: tuple indices must be integers or slices, not tuple"
     ]
    }
   ],
   "source": [
    "my_2darray[:,0]"
   ]
  },
  {
   "cell_type": "code",
   "execution_count": 14,
   "id": "84e9bb03",
   "metadata": {},
   "outputs": [
    {
     "data": {
      "text/plain": [
       "([1, 2, 3, 4],)"
      ]
     },
     "execution_count": 14,
     "metadata": {},
     "output_type": "execute_result"
    }
   ],
   "source": [
    "my_2darray[0:1]"
   ]
  },
  {
   "cell_type": "code",
   "execution_count": 15,
   "id": "c3baa632",
   "metadata": {},
   "outputs": [
    {
     "data": {
      "text/plain": [
       "array([False, False,  True,  True,  True])"
      ]
     },
     "execution_count": 15,
     "metadata": {},
     "output_type": "execute_result"
    }
   ],
   "source": [
    "my_array>2"
   ]
  },
  {
   "cell_type": "code",
   "execution_count": 16,
   "id": "079ce30a",
   "metadata": {},
   "outputs": [
    {
     "data": {
      "text/plain": [
       "array([ 2,  4,  6,  8, 10])"
      ]
     },
     "execution_count": 16,
     "metadata": {},
     "output_type": "execute_result"
    }
   ],
   "source": [
    "my_array*2"
   ]
  },
  {
   "cell_type": "code",
   "execution_count": 18,
   "id": "6768e88b",
   "metadata": {},
   "outputs": [
    {
     "data": {
      "text/plain": [
       "array([ 6,  8, 10, 12, 14])"
      ]
     },
     "execution_count": 18,
     "metadata": {},
     "output_type": "execute_result"
    }
   ],
   "source": [
    "my_array + np.array([5,6,7,8,9])"
   ]
  },
  {
   "cell_type": "code",
   "execution_count": 19,
   "id": "5eb6f06c",
   "metadata": {},
   "outputs": [
    {
     "data": {
      "text/plain": [
       "(5,)"
      ]
     },
     "execution_count": 19,
     "metadata": {},
     "output_type": "execute_result"
    }
   ],
   "source": [
    "my_array.shape"
   ]
  },
  {
   "cell_type": "code",
   "execution_count": 21,
   "id": "94b18e5a",
   "metadata": {},
   "outputs": [
    {
     "data": {
      "text/plain": [
       "array([ 1,  2,  3,  4,  5, 11, 12, 13, 14, 15])"
      ]
     },
     "execution_count": 21,
     "metadata": {},
     "output_type": "execute_result"
    }
   ],
   "source": [
    "np.append(my_array, [11,12,13,14,15])"
   ]
  },
  {
   "cell_type": "code",
   "execution_count": 25,
   "id": "749a29fb",
   "metadata": {},
   "outputs": [
    {
     "data": {
      "text/plain": [
       "array([1, 2, 3, 4, 5, 7])"
      ]
     },
     "execution_count": 25,
     "metadata": {},
     "output_type": "execute_result"
    }
   ],
   "source": [
    "np.append(my_array,7)"
   ]
  },
  {
   "cell_type": "code",
   "execution_count": 26,
   "id": "8563ecd1",
   "metadata": {},
   "outputs": [
    {
     "ename": "AxisError",
     "evalue": "axis 7 is out of bounds for array of dimension 1",
     "output_type": "error",
     "traceback": [
      "\u001b[1;31m---------------------------------------------------------------------------\u001b[0m",
      "\u001b[1;31mAxisError\u001b[0m                                 Traceback (most recent call last)",
      "Cell \u001b[1;32mIn[26], line 1\u001b[0m\n\u001b[1;32m----> 1\u001b[0m np\u001b[38;5;241m.\u001b[39mappend(my_array,\u001b[38;5;241m0\u001b[39m,\u001b[38;5;241m7\u001b[39m)\n",
      "File \u001b[1;32m<__array_function__ internals>:200\u001b[0m, in \u001b[0;36mappend\u001b[1;34m(*args, **kwargs)\u001b[0m\n",
      "File \u001b[1;32m~\\anaconda3\\Lib\\site-packages\\numpy\\lib\\function_base.py:5499\u001b[0m, in \u001b[0;36mappend\u001b[1;34m(arr, values, axis)\u001b[0m\n\u001b[0;32m   5497\u001b[0m     values \u001b[38;5;241m=\u001b[39m ravel(values)\n\u001b[0;32m   5498\u001b[0m     axis \u001b[38;5;241m=\u001b[39m arr\u001b[38;5;241m.\u001b[39mndim\u001b[38;5;241m-\u001b[39m\u001b[38;5;241m1\u001b[39m\n\u001b[1;32m-> 5499\u001b[0m \u001b[38;5;28;01mreturn\u001b[39;00m concatenate((arr, values), axis\u001b[38;5;241m=\u001b[39maxis)\n",
      "File \u001b[1;32m<__array_function__ internals>:200\u001b[0m, in \u001b[0;36mconcatenate\u001b[1;34m(*args, **kwargs)\u001b[0m\n",
      "\u001b[1;31mAxisError\u001b[0m: axis 7 is out of bounds for array of dimension 1"
     ]
    }
   ],
   "source": [
    "np.append(my_array,0,7)"
   ]
  },
  {
   "cell_type": "code",
   "execution_count": 27,
   "id": "ea577a71",
   "metadata": {},
   "outputs": [
    {
     "data": {
      "text/plain": [
       "array([1, 2, 3, 4, 5])"
      ]
     },
     "execution_count": 27,
     "metadata": {},
     "output_type": "execute_result"
    }
   ],
   "source": [
    "my_array"
   ]
  },
  {
   "cell_type": "code",
   "execution_count": 28,
   "id": "9089fc2e",
   "metadata": {},
   "outputs": [
    {
     "data": {
      "text/plain": [
       "array([2, 3, 4, 5])"
      ]
     },
     "execution_count": 28,
     "metadata": {},
     "output_type": "execute_result"
    }
   ],
   "source": [
    "np.delete(my_array, [0])"
   ]
  },
  {
   "cell_type": "code",
   "execution_count": 29,
   "id": "a6ba6198",
   "metadata": {},
   "outputs": [
    {
     "data": {
      "text/plain": [
       "3.0"
      ]
     },
     "execution_count": 29,
     "metadata": {},
     "output_type": "execute_result"
    }
   ],
   "source": [
    "np.mean(my_array)"
   ]
  },
  {
   "cell_type": "code",
   "execution_count": 30,
   "id": "34e42f42",
   "metadata": {},
   "outputs": [
    {
     "data": {
      "text/plain": [
       "3.0"
      ]
     },
     "execution_count": 30,
     "metadata": {},
     "output_type": "execute_result"
    }
   ],
   "source": [
    "np.median(my_array)"
   ]
  },
  {
   "cell_type": "code",
   "execution_count": 31,
   "id": "5a7cb216",
   "metadata": {},
   "outputs": [
    {
     "ename": "AttributeError",
     "evalue": "'numpy.ndarray' object has no attribute 'corrcoef'",
     "output_type": "error",
     "traceback": [
      "\u001b[1;31m---------------------------------------------------------------------------\u001b[0m",
      "\u001b[1;31mAttributeError\u001b[0m                            Traceback (most recent call last)",
      "Cell \u001b[1;32mIn[31], line 1\u001b[0m\n\u001b[1;32m----> 1\u001b[0m my_array\u001b[38;5;241m.\u001b[39mcorrcoef()\n",
      "\u001b[1;31mAttributeError\u001b[0m: 'numpy.ndarray' object has no attribute 'corrcoef'"
     ]
    }
   ],
   "source": [
    "my_array.corrcoef()"
   ]
  },
  {
   "cell_type": "code",
   "execution_count": 32,
   "id": "0598a7a6",
   "metadata": {},
   "outputs": [
    {
     "data": {
      "text/plain": [
       "1.4142135623730951"
      ]
     },
     "execution_count": 32,
     "metadata": {},
     "output_type": "execute_result"
    }
   ],
   "source": [
    "np.std(my_array)"
   ]
  },
  {
   "cell_type": "code",
   "execution_count": 44,
   "id": "d7c30b0d",
   "metadata": {},
   "outputs": [],
   "source": [
    "student_list = [1,2,3,4,5],[6,7,8,9,0],[11,12,13,14,15]"
   ]
  },
  {
   "cell_type": "code",
   "execution_count": 48,
   "id": "6a73597c",
   "metadata": {},
   "outputs": [],
   "source": [
    "student_array = np.array(student_list)"
   ]
  },
  {
   "cell_type": "code",
   "execution_count": 51,
   "id": "2741e73c",
   "metadata": {},
   "outputs": [
    {
     "data": {
      "text/plain": [
       "array([1, 2, 3, 4, 5])"
      ]
     },
     "execution_count": 51,
     "metadata": {},
     "output_type": "execute_result"
    }
   ],
   "source": [
    "student_array[0]"
   ]
  },
  {
   "cell_type": "code",
   "execution_count": 52,
   "id": "7d0496f3",
   "metadata": {},
   "outputs": [
    {
     "data": {
      "text/plain": [
       "(3, 5)"
      ]
     },
     "execution_count": 52,
     "metadata": {},
     "output_type": "execute_result"
    }
   ],
   "source": [
    "student_array.shape"
   ]
  },
  {
   "cell_type": "code",
   "execution_count": 54,
   "id": "252e887b",
   "metadata": {},
   "outputs": [
    {
     "data": {
      "text/plain": [
       "array([[ 1,  2,  3],\n",
       "       [ 4,  5,  6],\n",
       "       [ 7,  8,  9],\n",
       "       [ 0, 11, 12],\n",
       "       [13, 14, 15]])"
      ]
     },
     "execution_count": 54,
     "metadata": {},
     "output_type": "execute_result"
    }
   ],
   "source": [
    "student_array.reshape(5,3)"
   ]
  },
  {
   "cell_type": "code",
   "execution_count": 55,
   "id": "f209cf7f",
   "metadata": {},
   "outputs": [
    {
     "data": {
      "text/plain": [
       "array([[ 1,  2,  3],\n",
       "       [ 6,  7,  8],\n",
       "       [11, 12, 13]])"
      ]
     },
     "execution_count": 55,
     "metadata": {},
     "output_type": "execute_result"
    }
   ],
   "source": [
    "student_array[:,:3]"
   ]
  },
  {
   "cell_type": "code",
   "execution_count": 56,
   "id": "ea460352",
   "metadata": {},
   "outputs": [
    {
     "data": {
      "text/plain": [
       "array([[ 1,  2,  3,  4,  5],\n",
       "       [ 6,  7,  8,  9,  0],\n",
       "       [11, 12, 13, 14, 15]])"
      ]
     },
     "execution_count": 56,
     "metadata": {},
     "output_type": "execute_result"
    }
   ],
   "source": [
    "student_array"
   ]
  },
  {
   "cell_type": "code",
   "execution_count": 59,
   "id": "2e7be9b2",
   "metadata": {},
   "outputs": [],
   "source": [
    "arr = np.arange(0,10)"
   ]
  },
  {
   "cell_type": "code",
   "execution_count": 60,
   "id": "8179d9e2",
   "metadata": {},
   "outputs": [
    {
     "data": {
      "text/plain": [
       "array([0, 1, 2, 3, 4, 5, 6, 7, 8, 9])"
      ]
     },
     "execution_count": 60,
     "metadata": {},
     "output_type": "execute_result"
    }
   ],
   "source": [
    "arr"
   ]
  },
  {
   "cell_type": "code",
   "execution_count": 61,
   "id": "d06d2b86",
   "metadata": {},
   "outputs": [],
   "source": [
    "arr[3:]=100"
   ]
  },
  {
   "cell_type": "code",
   "execution_count": 62,
   "id": "a76782cc",
   "metadata": {},
   "outputs": [
    {
     "data": {
      "text/plain": [
       "array([  0,   1,   2, 100, 100, 100, 100, 100, 100, 100])"
      ]
     },
     "execution_count": 62,
     "metadata": {},
     "output_type": "execute_result"
    }
   ],
   "source": [
    "arr"
   ]
  },
  {
   "cell_type": "code",
   "execution_count": 63,
   "id": "cd0e9f8a",
   "metadata": {},
   "outputs": [],
   "source": [
    "arr = np.arange(1,10,step=2)"
   ]
  },
  {
   "cell_type": "code",
   "execution_count": 64,
   "id": "651dd405",
   "metadata": {},
   "outputs": [
    {
     "data": {
      "text/plain": [
       "array([1, 3, 5, 7, 9])"
      ]
     },
     "execution_count": 64,
     "metadata": {},
     "output_type": "execute_result"
    }
   ],
   "source": [
    "arr"
   ]
  },
  {
   "cell_type": "code",
   "execution_count": 71,
   "id": "26807d35",
   "metadata": {},
   "outputs": [],
   "source": [
    "arr = np.linspace(1,100,70)"
   ]
  },
  {
   "cell_type": "code",
   "execution_count": 72,
   "id": "f182f9e6",
   "metadata": {},
   "outputs": [
    {
     "data": {
      "text/plain": [
       "array([  1.        ,   2.43478261,   3.86956522,   5.30434783,\n",
       "         6.73913043,   8.17391304,   9.60869565,  11.04347826,\n",
       "        12.47826087,  13.91304348,  15.34782609,  16.7826087 ,\n",
       "        18.2173913 ,  19.65217391,  21.08695652,  22.52173913,\n",
       "        23.95652174,  25.39130435,  26.82608696,  28.26086957,\n",
       "        29.69565217,  31.13043478,  32.56521739,  34.        ,\n",
       "        35.43478261,  36.86956522,  38.30434783,  39.73913043,\n",
       "        41.17391304,  42.60869565,  44.04347826,  45.47826087,\n",
       "        46.91304348,  48.34782609,  49.7826087 ,  51.2173913 ,\n",
       "        52.65217391,  54.08695652,  55.52173913,  56.95652174,\n",
       "        58.39130435,  59.82608696,  61.26086957,  62.69565217,\n",
       "        64.13043478,  65.56521739,  67.        ,  68.43478261,\n",
       "        69.86956522,  71.30434783,  72.73913043,  74.17391304,\n",
       "        75.60869565,  77.04347826,  78.47826087,  79.91304348,\n",
       "        81.34782609,  82.7826087 ,  84.2173913 ,  85.65217391,\n",
       "        87.08695652,  88.52173913,  89.95652174,  91.39130435,\n",
       "        92.82608696,  94.26086957,  95.69565217,  97.13043478,\n",
       "        98.56521739, 100.        ])"
      ]
     },
     "execution_count": 72,
     "metadata": {},
     "output_type": "execute_result"
    }
   ],
   "source": [
    "arr"
   ]
  },
  {
   "cell_type": "code",
   "execution_count": 73,
   "id": "a4c959b7",
   "metadata": {},
   "outputs": [],
   "source": [
    "arr1 = arr.copy()"
   ]
  },
  {
   "cell_type": "code",
   "execution_count": 74,
   "id": "ad63d9d1",
   "metadata": {},
   "outputs": [
    {
     "data": {
      "text/plain": [
       "array([  1.        ,   2.43478261,   3.86956522,   5.30434783,\n",
       "         6.73913043,   8.17391304,   9.60869565,  11.04347826,\n",
       "        12.47826087,  13.91304348,  15.34782609,  16.7826087 ,\n",
       "        18.2173913 ,  19.65217391,  21.08695652,  22.52173913,\n",
       "        23.95652174,  25.39130435,  26.82608696,  28.26086957,\n",
       "        29.69565217,  31.13043478,  32.56521739,  34.        ,\n",
       "        35.43478261,  36.86956522,  38.30434783,  39.73913043,\n",
       "        41.17391304,  42.60869565,  44.04347826,  45.47826087,\n",
       "        46.91304348,  48.34782609,  49.7826087 ,  51.2173913 ,\n",
       "        52.65217391,  54.08695652,  55.52173913,  56.95652174,\n",
       "        58.39130435,  59.82608696,  61.26086957,  62.69565217,\n",
       "        64.13043478,  65.56521739,  67.        ,  68.43478261,\n",
       "        69.86956522,  71.30434783,  72.73913043,  74.17391304,\n",
       "        75.60869565,  77.04347826,  78.47826087,  79.91304348,\n",
       "        81.34782609,  82.7826087 ,  84.2173913 ,  85.65217391,\n",
       "        87.08695652,  88.52173913,  89.95652174,  91.39130435,\n",
       "        92.82608696,  94.26086957,  95.69565217,  97.13043478,\n",
       "        98.56521739, 100.        ])"
      ]
     },
     "execution_count": 74,
     "metadata": {},
     "output_type": "execute_result"
    }
   ],
   "source": [
    "arr1"
   ]
  },
  {
   "cell_type": "code",
   "execution_count": 77,
   "id": "7b1120a0",
   "metadata": {},
   "outputs": [
    {
     "data": {
      "text/plain": [
       "array([1., 1., 1., 1., 1.])"
      ]
     },
     "execution_count": 77,
     "metadata": {},
     "output_type": "execute_result"
    }
   ],
   "source": [
    "np.ones(5)"
   ]
  },
  {
   "cell_type": "code",
   "execution_count": 79,
   "id": "3f111a8d",
   "metadata": {},
   "outputs": [
    {
     "data": {
      "text/plain": [
       "array([[1, 1],\n",
       "       [1, 1],\n",
       "       [1, 1],\n",
       "       [1, 1],\n",
       "       [1, 1]])"
      ]
     },
     "execution_count": 79,
     "metadata": {},
     "output_type": "execute_result"
    }
   ],
   "source": [
    "np.ones((5,2),dtype=int)"
   ]
  },
  {
   "cell_type": "code",
   "execution_count": 83,
   "id": "901f54da",
   "metadata": {},
   "outputs": [
    {
     "data": {
      "text/plain": [
       "array([[0.60181235, 0.26741793, 0.66993543],\n",
       "       [0.55230445, 0.61095479, 0.61759719],\n",
       "       [0.7446742 , 0.91619374, 0.40460295],\n",
       "       [0.47925774, 0.82412498, 0.11932773],\n",
       "       [0.53733862, 0.24443168, 0.01937278]])"
      ]
     },
     "execution_count": 83,
     "metadata": {},
     "output_type": "execute_result"
    }
   ],
   "source": [
    "np.random.rand(5,3)"
   ]
  },
  {
   "cell_type": "code",
   "execution_count": null,
   "id": "a2722e27",
   "metadata": {},
   "outputs": [],
   "source": []
  }
 ],
 "metadata": {
  "kernelspec": {
   "display_name": "Python 3 (ipykernel)",
   "language": "python",
   "name": "python3"
  },
  "language_info": {
   "codemirror_mode": {
    "name": "ipython",
    "version": 3
   },
   "file_extension": ".py",
   "mimetype": "text/x-python",
   "name": "python",
   "nbconvert_exporter": "python",
   "pygments_lexer": "ipython3",
   "version": "3.11.5"
  }
 },
 "nbformat": 4,
 "nbformat_minor": 5
}
