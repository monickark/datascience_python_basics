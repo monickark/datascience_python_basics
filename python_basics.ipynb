{
 "cells": [
  {
   "cell_type": "code",
   "execution_count": 1,
   "id": "2249a3a9",
   "metadata": {},
   "outputs": [
    {
     "data": {
      "text/plain": [
       "2"
      ]
     },
     "execution_count": 1,
     "metadata": {},
     "output_type": "execute_result"
    }
   ],
   "source": [
    "1+1"
   ]
  },
  {
   "cell_type": "markdown",
   "id": "440fa8b4",
   "metadata": {},
   "source": [
    "4*5"
   ]
  },
  {
   "cell_type": "code",
   "execution_count": 2,
   "id": "0aa8f877",
   "metadata": {},
   "outputs": [
    {
     "data": {
      "text/plain": [
       "20"
      ]
     },
     "execution_count": 2,
     "metadata": {},
     "output_type": "execute_result"
    }
   ],
   "source": [
    "4*5\n"
   ]
  },
  {
   "cell_type": "code",
   "execution_count": 3,
   "id": "2cbf0e69",
   "metadata": {},
   "outputs": [
    {
     "name": "stdout",
     "output_type": "stream",
     "text": [
      "Hello\n"
     ]
    }
   ],
   "source": [
    "print(\"Hello\")"
   ]
  },
  {
   "cell_type": "code",
   "execution_count": 8,
   "id": "091b8411",
   "metadata": {},
   "outputs": [],
   "source": [
    "first_name = \"Monicka\""
   ]
  },
  {
   "cell_type": "code",
   "execution_count": 9,
   "id": "f1205212",
   "metadata": {},
   "outputs": [],
   "source": [
    "last_name = \"Akilan\""
   ]
  },
  {
   "cell_type": "code",
   "execution_count": 10,
   "id": "5cd771fc",
   "metadata": {},
   "outputs": [
    {
     "name": "stdout",
     "output_type": "stream",
     "text": [
      "Monicka Akilan\n"
     ]
    }
   ],
   "source": [
    "print(first_name +\" \" + last_name)"
   ]
  },
  {
   "cell_type": "code",
   "execution_count": 11,
   "id": "8c7f1783",
   "metadata": {},
   "outputs": [],
   "source": [
    "arr=[]"
   ]
  },
  {
   "cell_type": "code",
   "execution_count": 12,
   "id": "e2254ef3",
   "metadata": {},
   "outputs": [
    {
     "data": {
      "text/plain": [
       "list"
      ]
     },
     "execution_count": 12,
     "metadata": {},
     "output_type": "execute_result"
    }
   ],
   "source": [
    "type(arr)"
   ]
  },
  {
   "cell_type": "code",
   "execution_count": 13,
   "id": "15b403bd",
   "metadata": {},
   "outputs": [],
   "source": [
    "list=[\"chemistry\", \"maths\", 10, 5, 2.5]"
   ]
  },
  {
   "cell_type": "code",
   "execution_count": 15,
   "id": "574f617c",
   "metadata": {},
   "outputs": [
    {
     "name": "stdout",
     "output_type": "stream",
     "text": [
      "chemistry\n"
     ]
    }
   ],
   "source": [
    "print(list[0])"
   ]
  },
  {
   "cell_type": "code",
   "execution_count": 17,
   "id": "7f227bf9",
   "metadata": {},
   "outputs": [],
   "source": [
    "list.append(\"english\")"
   ]
  },
  {
   "cell_type": "code",
   "execution_count": 18,
   "id": "be59a863",
   "metadata": {},
   "outputs": [
    {
     "name": "stdout",
     "output_type": "stream",
     "text": [
      "english\n"
     ]
    }
   ],
   "source": [
    "print(list[5])"
   ]
  },
  {
   "cell_type": "code",
   "execution_count": null,
   "id": "c6098a59",
   "metadata": {},
   "outputs": [],
   "source": []
  }
 ],
 "metadata": {
  "kernelspec": {
   "display_name": "Python 3 (ipykernel)",
   "language": "python",
   "name": "python3"
  },
  "language_info": {
   "codemirror_mode": {
    "name": "ipython",
    "version": 3
   },
   "file_extension": ".py",
   "mimetype": "text/x-python",
   "name": "python",
   "nbconvert_exporter": "python",
   "pygments_lexer": "ipython3",
   "version": "3.11.5"
  }
 },
 "nbformat": 4,
 "nbformat_minor": 5
}
