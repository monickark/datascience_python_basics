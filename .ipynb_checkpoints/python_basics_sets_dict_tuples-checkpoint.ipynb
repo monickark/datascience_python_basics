{
 "cells": [
  {
   "cell_type": "markdown",
   "id": "d1d2d134",
   "metadata": {},
   "source": [
    "## python_basics_sets_dict_tuples\n"
   ]
  },
  {
   "cell_type": "markdown",
   "id": "3c74a80f",
   "metadata": {},
   "source": [
    "## set"
   ]
  },
  {
   "cell_type": "code",
   "execution_count": 1,
   "id": "a53414c1",
   "metadata": {},
   "outputs": [],
   "source": [
    "set_basic = set()"
   ]
  },
  {
   "cell_type": "code",
   "execution_count": 2,
   "id": "10bc14d7",
   "metadata": {},
   "outputs": [
    {
     "data": {
      "text/plain": [
       "set()"
      ]
     },
     "execution_count": 2,
     "metadata": {},
     "output_type": "execute_result"
    }
   ],
   "source": [
    "set_basic"
   ]
  },
  {
   "cell_type": "code",
   "execution_count": 3,
   "id": "85ac5b9d",
   "metadata": {},
   "outputs": [],
   "source": [
    "set_basic= {\"one\",\"two\",\"three\"}"
   ]
  },
  {
   "cell_type": "code",
   "execution_count": 4,
   "id": "403e3b0a",
   "metadata": {},
   "outputs": [
    {
     "data": {
      "text/plain": [
       "{'one', 'three', 'two'}"
      ]
     },
     "execution_count": 4,
     "metadata": {},
     "output_type": "execute_result"
    }
   ],
   "source": [
    "set_basic"
   ]
  },
  {
   "cell_type": "code",
   "execution_count": 5,
   "id": "96cbd39b",
   "metadata": {},
   "outputs": [
    {
     "data": {
      "text/plain": [
       "set"
      ]
     },
     "execution_count": 5,
     "metadata": {},
     "output_type": "execute_result"
    }
   ],
   "source": [
    "type(set_basic)"
   ]
  },
  {
   "cell_type": "code",
   "execution_count": 6,
   "id": "6b7cc0df",
   "metadata": {},
   "outputs": [
    {
     "ename": "AttributeError",
     "evalue": "'set' object has no attribute 'insert'",
     "output_type": "error",
     "traceback": [
      "\u001b[1;31m---------------------------------------------------------------------------\u001b[0m",
      "\u001b[1;31mAttributeError\u001b[0m                            Traceback (most recent call last)",
      "Cell \u001b[1;32mIn[6], line 1\u001b[0m\n\u001b[1;32m----> 1\u001b[0m set_basic\u001b[38;5;241m.\u001b[39minsert(\u001b[38;5;124m\"\u001b[39m\u001b[38;5;124mfour\u001b[39m\u001b[38;5;124m\"\u001b[39m)\n",
      "\u001b[1;31mAttributeError\u001b[0m: 'set' object has no attribute 'insert'"
     ]
    }
   ],
   "source": [
    "set_basic.insert(\"four\")"
   ]
  },
  {
   "cell_type": "code",
   "execution_count": 7,
   "id": "a5b3cc09",
   "metadata": {},
   "outputs": [],
   "source": [
    "set_basic.add(\"four\")"
   ]
  },
  {
   "cell_type": "code",
   "execution_count": 8,
   "id": "9c60a4cf",
   "metadata": {},
   "outputs": [
    {
     "data": {
      "text/plain": [
       "{'four', 'one', 'three', 'two'}"
      ]
     },
     "execution_count": 8,
     "metadata": {},
     "output_type": "execute_result"
    }
   ],
   "source": [
    "set_basic"
   ]
  },
  {
   "cell_type": "code",
   "execution_count": 9,
   "id": "90806318",
   "metadata": {},
   "outputs": [
    {
     "data": {
      "text/plain": [
       "{'four', 'one', 'three', 'two'}"
      ]
     },
     "execution_count": 9,
     "metadata": {},
     "output_type": "execute_result"
    }
   ],
   "source": [
    "set_basic"
   ]
  },
  {
   "cell_type": "code",
   "execution_count": 10,
   "id": "ffa7156f",
   "metadata": {},
   "outputs": [
    {
     "ename": "TypeError",
     "evalue": "'set' object is not subscriptable",
     "output_type": "error",
     "traceback": [
      "\u001b[1;31m---------------------------------------------------------------------------\u001b[0m",
      "\u001b[1;31mTypeError\u001b[0m                                 Traceback (most recent call last)",
      "Cell \u001b[1;32mIn[10], line 1\u001b[0m\n\u001b[1;32m----> 1\u001b[0m set_basic[\u001b[38;5;241m0\u001b[39m]\n",
      "\u001b[1;31mTypeError\u001b[0m: 'set' object is not subscriptable"
     ]
    }
   ],
   "source": [
    "set_basic[0]"
   ]
  },
  {
   "cell_type": "code",
   "execution_count": 11,
   "id": "bdb702c1",
   "metadata": {},
   "outputs": [
    {
     "ename": "TypeError",
     "evalue": "'set' object is not subscriptable",
     "output_type": "error",
     "traceback": [
      "\u001b[1;31m---------------------------------------------------------------------------\u001b[0m",
      "\u001b[1;31mTypeError\u001b[0m                                 Traceback (most recent call last)",
      "Cell \u001b[1;32mIn[11], line 1\u001b[0m\n\u001b[1;32m----> 1\u001b[0m set_basic[\u001b[38;5;124m\"\u001b[39m\u001b[38;5;124mome\u001b[39m\u001b[38;5;124m\"\u001b[39m]\n",
      "\u001b[1;31mTypeError\u001b[0m: 'set' object is not subscriptable"
     ]
    }
   ],
   "source": [
    "set_basic[\"ome\"]"
   ]
  },
  {
   "cell_type": "code",
   "execution_count": 12,
   "id": "5932bfc3",
   "metadata": {},
   "outputs": [
    {
     "ename": "TypeError",
     "evalue": "'set' object is not subscriptable",
     "output_type": "error",
     "traceback": [
      "\u001b[1;31m---------------------------------------------------------------------------\u001b[0m",
      "\u001b[1;31mTypeError\u001b[0m                                 Traceback (most recent call last)",
      "Cell \u001b[1;32mIn[12], line 1\u001b[0m\n\u001b[1;32m----> 1\u001b[0m set_basic[\u001b[38;5;124m\"\u001b[39m\u001b[38;5;124mone\u001b[39m\u001b[38;5;124m\"\u001b[39m]\n",
      "\u001b[1;31mTypeError\u001b[0m: 'set' object is not subscriptable"
     ]
    }
   ],
   "source": [
    "set_basic[\"one\"]"
   ]
  },
  {
   "cell_type": "code",
   "execution_count": 13,
   "id": "9d5b4970",
   "metadata": {},
   "outputs": [],
   "source": [
    "set_basic.add(0)"
   ]
  },
  {
   "cell_type": "code",
   "execution_count": 14,
   "id": "4d1b394e",
   "metadata": {},
   "outputs": [
    {
     "data": {
      "text/plain": [
       "{0, 'four', 'one', 'three', 'two'}"
      ]
     },
     "execution_count": 14,
     "metadata": {},
     "output_type": "execute_result"
    }
   ],
   "source": [
    "set_basic"
   ]
  },
  {
   "cell_type": "code",
   "execution_count": 15,
   "id": "5a6d1c2f",
   "metadata": {},
   "outputs": [
    {
     "ename": "TypeError",
     "evalue": "set.add() takes exactly one argument (3 given)",
     "output_type": "error",
     "traceback": [
      "\u001b[1;31m---------------------------------------------------------------------------\u001b[0m",
      "\u001b[1;31mTypeError\u001b[0m                                 Traceback (most recent call last)",
      "Cell \u001b[1;32mIn[15], line 1\u001b[0m\n\u001b[1;32m----> 1\u001b[0m set_basic1 \u001b[38;5;241m=\u001b[39m set_basic\u001b[38;5;241m.\u001b[39madd(\u001b[38;5;124m\"\u001b[39m\u001b[38;5;124msix\u001b[39m\u001b[38;5;124m\"\u001b[39m,\u001b[38;5;124m\"\u001b[39m\u001b[38;5;124mseven\u001b[39m\u001b[38;5;124m\"\u001b[39m,\u001b[38;5;124m\"\u001b[39m\u001b[38;5;124meight\u001b[39m\u001b[38;5;124m\"\u001b[39m)\n",
      "\u001b[1;31mTypeError\u001b[0m: set.add() takes exactly one argument (3 given)"
     ]
    }
   ],
   "source": [
    "set_basic1 = set_basic.add(\"six\",\"seven\",\"eight\")"
   ]
  },
  {
   "cell_type": "code",
   "execution_count": 16,
   "id": "0e5f939e",
   "metadata": {},
   "outputs": [
    {
     "ename": "TypeError",
     "evalue": "unhashable type: 'list'",
     "output_type": "error",
     "traceback": [
      "\u001b[1;31m---------------------------------------------------------------------------\u001b[0m",
      "\u001b[1;31mTypeError\u001b[0m                                 Traceback (most recent call last)",
      "Cell \u001b[1;32mIn[16], line 1\u001b[0m\n\u001b[1;32m----> 1\u001b[0m set_basic1 \u001b[38;5;241m=\u001b[39m set_basic\u001b[38;5;241m.\u001b[39madd([\u001b[38;5;124m\"\u001b[39m\u001b[38;5;124msix\u001b[39m\u001b[38;5;124m\"\u001b[39m,\u001b[38;5;124m\"\u001b[39m\u001b[38;5;124mseven\u001b[39m\u001b[38;5;124m\"\u001b[39m,\u001b[38;5;124m\"\u001b[39m\u001b[38;5;124meight\u001b[39m\u001b[38;5;124m\"\u001b[39m])\n",
      "\u001b[1;31mTypeError\u001b[0m: unhashable type: 'list'"
     ]
    }
   ],
   "source": [
    "set_basic1 = set_basic.add([\"six\",\"seven\",\"eight\"])"
   ]
  },
  {
   "cell_type": "code",
   "execution_count": 17,
   "id": "5950fb32",
   "metadata": {},
   "outputs": [],
   "source": [
    "set_basic1 = set_basic.add(\"six\")"
   ]
  },
  {
   "cell_type": "code",
   "execution_count": 22,
   "id": "f5cd94f8",
   "metadata": {},
   "outputs": [
    {
     "data": {
      "text/plain": [
       "{0, 'four', 'one', 'six', 'three', 'two'}"
      ]
     },
     "execution_count": 22,
     "metadata": {},
     "output_type": "execute_result"
    }
   ],
   "source": [
    "set_basic"
   ]
  },
  {
   "cell_type": "code",
   "execution_count": 24,
   "id": "aca20837",
   "metadata": {},
   "outputs": [],
   "source": [
    "set_basic1 = {0, 'four', 'one', 'six', 'three', 'two', \"eight\"}"
   ]
  },
  {
   "cell_type": "code",
   "execution_count": 33,
   "id": "b3069e44",
   "metadata": {},
   "outputs": [
    {
     "data": {
      "text/plain": [
       "set()"
      ]
     },
     "execution_count": 33,
     "metadata": {},
     "output_type": "execute_result"
    }
   ],
   "source": [
    "set_basic1.intersection(set_basic)"
   ]
  },
  {
   "cell_type": "code",
   "execution_count": 25,
   "id": "2cbc99b3",
   "metadata": {},
   "outputs": [
    {
     "data": {
      "text/plain": [
       "{'eight'}"
      ]
     },
     "execution_count": 25,
     "metadata": {},
     "output_type": "execute_result"
    }
   ],
   "source": [
    "set_basic1.difference(set_basic)"
   ]
  },
  {
   "cell_type": "code",
   "execution_count": 26,
   "id": "c974db85",
   "metadata": {},
   "outputs": [],
   "source": [
    "set_basic1.difference_update(set_basic)"
   ]
  },
  {
   "cell_type": "code",
   "execution_count": 27,
   "id": "5a088ccb",
   "metadata": {},
   "outputs": [
    {
     "name": "stdout",
     "output_type": "stream",
     "text": [
      "{'eight'}\n"
     ]
    }
   ],
   "source": [
    "print(set_basic1)"
   ]
  },
  {
   "cell_type": "code",
   "execution_count": 28,
   "id": "8449ad8a",
   "metadata": {},
   "outputs": [
    {
     "data": {
      "text/plain": [
       "{0, 'four', 'one', 'seven', 'six', 'three', 'two'}"
      ]
     },
     "execution_count": 28,
     "metadata": {},
     "output_type": "execute_result"
    }
   ],
   "source": [
    "set_basic"
   ]
  },
  {
   "cell_type": "code",
   "execution_count": 29,
   "id": "9fd7cf4b",
   "metadata": {},
   "outputs": [
    {
     "data": {
      "text/plain": [
       "{'eight'}"
      ]
     },
     "execution_count": 29,
     "metadata": {},
     "output_type": "execute_result"
    }
   ],
   "source": [
    "set_basic1"
   ]
  },
  {
   "cell_type": "code",
   "execution_count": 30,
   "id": "6041c6d3",
   "metadata": {},
   "outputs": [
    {
     "data": {
      "text/plain": [
       "set()"
      ]
     },
     "execution_count": 30,
     "metadata": {},
     "output_type": "execute_result"
    }
   ],
   "source": [
    "set_basic1.intersection(set_basic)"
   ]
  },
  {
   "cell_type": "code",
   "execution_count": 31,
   "id": "d83a72d3",
   "metadata": {},
   "outputs": [
    {
     "data": {
      "text/plain": [
       "{'eight'}"
      ]
     },
     "execution_count": 31,
     "metadata": {},
     "output_type": "execute_result"
    }
   ],
   "source": [
    "set_basic1"
   ]
  },
  {
   "cell_type": "code",
   "execution_count": 32,
   "id": "f9872af8",
   "metadata": {},
   "outputs": [
    {
     "data": {
      "text/plain": [
       "{0, 'four', 'one', 'seven', 'six', 'three', 'two'}"
      ]
     },
     "execution_count": 32,
     "metadata": {},
     "output_type": "execute_result"
    }
   ],
   "source": [
    "set_basic"
   ]
  },
  {
   "cell_type": "markdown",
   "id": "1b29424f",
   "metadata": {},
   "source": [
    "### dictionary"
   ]
  },
  {
   "cell_type": "code",
   "execution_count": 18,
   "id": "fd9b0308",
   "metadata": {},
   "outputs": [],
   "source": [
    "dic = {}"
   ]
  },
  {
   "cell_type": "code",
   "execution_count": 19,
   "id": "ec4fb35a",
   "metadata": {},
   "outputs": [],
   "source": [
    "dic={1,2,3,4,5}"
   ]
  },
  {
   "cell_type": "code",
   "execution_count": 20,
   "id": "b3964f33",
   "metadata": {},
   "outputs": [
    {
     "ename": "SyntaxError",
     "evalue": "invalid decimal literal (4031148791.py, line 1)",
     "output_type": "error",
     "traceback": [
      "\u001b[1;36m  Cell \u001b[1;32mIn[20], line 1\u001b[1;36m\u001b[0m\n\u001b[1;33m    9type(dic)\u001b[0m\n\u001b[1;37m    ^\u001b[0m\n\u001b[1;31mSyntaxError\u001b[0m\u001b[1;31m:\u001b[0m invalid decimal literal\n"
     ]
    }
   ],
   "source": [
    "9type(dic)"
   ]
  },
  {
   "cell_type": "code",
   "execution_count": 21,
   "id": "6d571b0d",
   "metadata": {},
   "outputs": [],
   "source": [
    "dic={\"1\":\"one\", \"2\":\"two\",\"3\":\"three\"}"
   ]
  },
  {
   "cell_type": "code",
   "execution_count": 22,
   "id": "116a773f",
   "metadata": {},
   "outputs": [
    {
     "data": {
      "text/plain": [
       "dict"
      ]
     },
     "execution_count": 22,
     "metadata": {},
     "output_type": "execute_result"
    }
   ],
   "source": [
    "type(dic)"
   ]
  },
  {
   "cell_type": "code",
   "execution_count": 23,
   "id": "9b528d94",
   "metadata": {},
   "outputs": [
    {
     "name": "stdout",
     "output_type": "stream",
     "text": [
      "1\n",
      "2\n",
      "3\n"
     ]
    }
   ],
   "source": [
    "for x in dic:\n",
    "    print(x)"
   ]
  },
  {
   "cell_type": "code",
   "execution_count": 24,
   "id": "21292209",
   "metadata": {},
   "outputs": [
    {
     "name": "stdout",
     "output_type": "stream",
     "text": [
      "one\n",
      "two\n",
      "three\n"
     ]
    }
   ],
   "source": [
    "for x in dic.values():\n",
    "    print(x)"
   ]
  },
  {
   "cell_type": "code",
   "execution_count": 25,
   "id": "b5e93fad",
   "metadata": {},
   "outputs": [
    {
     "ename": "TypeError",
     "evalue": "'dict' object is not callable",
     "output_type": "error",
     "traceback": [
      "\u001b[1;31m---------------------------------------------------------------------------\u001b[0m",
      "\u001b[1;31mTypeError\u001b[0m                                 Traceback (most recent call last)",
      "Cell \u001b[1;32mIn[25], line 1\u001b[0m\n\u001b[1;32m----> 1\u001b[0m dic(\u001b[38;5;124m\"\u001b[39m\u001b[38;5;124m1\u001b[39m\u001b[38;5;124m\"\u001b[39m)\n",
      "\u001b[1;31mTypeError\u001b[0m: 'dict' object is not callable"
     ]
    }
   ],
   "source": [
    "dic(\"1\")"
   ]
  },
  {
   "cell_type": "code",
   "execution_count": 26,
   "id": "4c0f7e0e",
   "metadata": {},
   "outputs": [
    {
     "data": {
      "text/plain": [
       "'one'"
      ]
     },
     "execution_count": 26,
     "metadata": {},
     "output_type": "execute_result"
    }
   ],
   "source": [
    "dic[\"1\"]"
   ]
  },
  {
   "cell_type": "code",
   "execution_count": 27,
   "id": "151f3210",
   "metadata": {},
   "outputs": [
    {
     "name": "stdout",
     "output_type": "stream",
     "text": [
      "('1', 'one')\n",
      "('2', 'two')\n",
      "('3', 'three')\n"
     ]
    }
   ],
   "source": [
    "for x in dic.items():\n",
    "    print(x)"
   ]
  },
  {
   "cell_type": "code",
   "execution_count": 28,
   "id": "e15dfbc8",
   "metadata": {},
   "outputs": [
    {
     "ename": "KeyError",
     "evalue": "0",
     "output_type": "error",
     "traceback": [
      "\u001b[1;31m---------------------------------------------------------------------------\u001b[0m",
      "\u001b[1;31mKeyError\u001b[0m                                  Traceback (most recent call last)",
      "Cell \u001b[1;32mIn[28], line 1\u001b[0m\n\u001b[1;32m----> 1\u001b[0m dic[\u001b[38;5;241m0\u001b[39m]\n",
      "\u001b[1;31mKeyError\u001b[0m: 0"
     ]
    }
   ],
   "source": [
    "dic[0]"
   ]
  },
  {
   "cell_type": "code",
   "execution_count": 29,
   "id": "82c5aad3",
   "metadata": {},
   "outputs": [],
   "source": [
    "dic[\"4\"] = \"four\""
   ]
  },
  {
   "cell_type": "code",
   "execution_count": 30,
   "id": "431e17cf",
   "metadata": {},
   "outputs": [
    {
     "data": {
      "text/plain": [
       "{'1': 'one', '2': 'two', '3': 'three', '4': 'four'}"
      ]
     },
     "execution_count": 30,
     "metadata": {},
     "output_type": "execute_result"
    }
   ],
   "source": [
    "dic"
   ]
  },
  {
   "cell_type": "code",
   "execution_count": 31,
   "id": "6a3d5893",
   "metadata": {},
   "outputs": [
    {
     "data": {
      "text/plain": [
       "'four'"
      ]
     },
     "execution_count": 31,
     "metadata": {},
     "output_type": "execute_result"
    }
   ],
   "source": [
    "dic[\"4\"]"
   ]
  },
  {
   "cell_type": "markdown",
   "id": "26f58749",
   "metadata": {},
   "source": [
    "## Nested dictionary"
   ]
  },
  {
   "cell_type": "code",
   "execution_count": 36,
   "id": "13271b83",
   "metadata": {},
   "outputs": [],
   "source": [
    "car1 = {\"Suzuki\",\"1960\"}"
   ]
  },
  {
   "cell_type": "code",
   "execution_count": 37,
   "id": "d0b6fbd5",
   "metadata": {},
   "outputs": [],
   "source": [
    "car2 = {\"Maruti\",\"1958\"}"
   ]
  },
  {
   "cell_type": "code",
   "execution_count": 39,
   "id": "298ac3f6",
   "metadata": {},
   "outputs": [],
   "source": [
    "car3 = {\"Suzuki\",\"1960\"}\n",
    "\n",
    "carDict = {\"car1\":car1, \"car2\": car2, \"car3\": car3}"
   ]
  },
  {
   "cell_type": "code",
   "execution_count": 40,
   "id": "7d9c67dc",
   "metadata": {},
   "outputs": [
    {
     "data": {
      "text/plain": [
       "{'car1': {'1960', 'Suzuki'},\n",
       " 'car2': {'1958', 'Maruti'},\n",
       " 'car3': {'1960', 'Suzuki'}}"
      ]
     },
     "execution_count": 40,
     "metadata": {},
     "output_type": "execute_result"
    }
   ],
   "source": [
    "carDict"
   ]
  },
  {
   "cell_type": "code",
   "execution_count": 41,
   "id": "c18623b6",
   "metadata": {},
   "outputs": [],
   "source": [
    "carDict[\"car4\"] = {\"Honda\", \"1990\"}"
   ]
  },
  {
   "cell_type": "code",
   "execution_count": 42,
   "id": "f30ce0b6",
   "metadata": {},
   "outputs": [
    {
     "data": {
      "text/plain": [
       "{'car1': {'1960', 'Suzuki'},\n",
       " 'car2': {'1958', 'Maruti'},\n",
       " 'car3': {'1960', 'Suzuki'},\n",
       " 'car4': {'1990', 'Honda'}}"
      ]
     },
     "execution_count": 42,
     "metadata": {},
     "output_type": "execute_result"
    }
   ],
   "source": [
    "carDict"
   ]
  },
  {
   "cell_type": "code",
   "execution_count": 43,
   "id": "5f333114",
   "metadata": {},
   "outputs": [
    {
     "data": {
      "text/plain": [
       "{'1960', 'Suzuki'}"
      ]
     },
     "execution_count": 43,
     "metadata": {},
     "output_type": "execute_result"
    }
   ],
   "source": [
    "carDict[\"car1\"]"
   ]
  },
  {
   "cell_type": "code",
   "execution_count": 44,
   "id": "c756bcd1",
   "metadata": {},
   "outputs": [
    {
     "ename": "TypeError",
     "evalue": "'set' object is not subscriptable",
     "output_type": "error",
     "traceback": [
      "\u001b[1;31m---------------------------------------------------------------------------\u001b[0m",
      "\u001b[1;31mTypeError\u001b[0m                                 Traceback (most recent call last)",
      "Cell \u001b[1;32mIn[44], line 1\u001b[0m\n\u001b[1;32m----> 1\u001b[0m carDict[\u001b[38;5;124m\"\u001b[39m\u001b[38;5;124mcar1\u001b[39m\u001b[38;5;124m\"\u001b[39m][\u001b[38;5;124m\"\u001b[39m\u001b[38;5;124m1958\u001b[39m\u001b[38;5;124m\"\u001b[39m]\n",
      "\u001b[1;31mTypeError\u001b[0m: 'set' object is not subscriptable"
     ]
    }
   ],
   "source": [
    "carDict[\"car1\"][\"1958\"]"
   ]
  },
  {
   "cell_type": "code",
   "execution_count": 45,
   "id": "2d0e23ce",
   "metadata": {},
   "outputs": [
    {
     "ename": "TypeError",
     "evalue": "'set' object is not subscriptable",
     "output_type": "error",
     "traceback": [
      "\u001b[1;31m---------------------------------------------------------------------------\u001b[0m",
      "\u001b[1;31mTypeError\u001b[0m                                 Traceback (most recent call last)",
      "Cell \u001b[1;32mIn[45], line 1\u001b[0m\n\u001b[1;32m----> 1\u001b[0m carDict[\u001b[38;5;124m\"\u001b[39m\u001b[38;5;124mcar1\u001b[39m\u001b[38;5;124m\"\u001b[39m][\u001b[38;5;124m\"\u001b[39m\u001b[38;5;124mHonda\u001b[39m\u001b[38;5;124m\"\u001b[39m]\n",
      "\u001b[1;31mTypeError\u001b[0m: 'set' object is not subscriptable"
     ]
    }
   ],
   "source": [
    "carDict[\"car1\"][\"Honda\"]"
   ]
  },
  {
   "cell_type": "code",
   "execution_count": 46,
   "id": "1da37e54",
   "metadata": {},
   "outputs": [
    {
     "ename": "TypeError",
     "evalue": "'set' object is not subscriptable",
     "output_type": "error",
     "traceback": [
      "\u001b[1;31m---------------------------------------------------------------------------\u001b[0m",
      "\u001b[1;31mTypeError\u001b[0m                                 Traceback (most recent call last)",
      "Cell \u001b[1;32mIn[46], line 1\u001b[0m\n\u001b[1;32m----> 1\u001b[0m carDict[\u001b[38;5;124m\"\u001b[39m\u001b[38;5;124mcar1\u001b[39m\u001b[38;5;124m\"\u001b[39m][\u001b[38;5;124m\"\u001b[39m\u001b[38;5;124mMaruti\u001b[39m\u001b[38;5;124m\"\u001b[39m]\n",
      "\u001b[1;31mTypeError\u001b[0m: 'set' object is not subscriptable"
     ]
    }
   ],
   "source": [
    "carDict[\"car1\"][\"Maruti\"]"
   ]
  },
  {
   "cell_type": "markdown",
   "id": "62d99ccf",
   "metadata": {},
   "source": [
    "## TUPLE\n"
   ]
  },
  {
   "cell_type": "code",
   "execution_count": 47,
   "id": "98d6d800",
   "metadata": {},
   "outputs": [],
   "source": [
    "my_tuple=tuple()"
   ]
  },
  {
   "cell_type": "code",
   "execution_count": 48,
   "id": "726410d2",
   "metadata": {},
   "outputs": [],
   "source": [
    "my_tuple=(\"moni\",\"Akilan\",\"rk\")"
   ]
  },
  {
   "cell_type": "code",
   "execution_count": 49,
   "id": "64482328",
   "metadata": {},
   "outputs": [
    {
     "data": {
      "text/plain": [
       "('moni', 'Akilan', 'rk')"
      ]
     },
     "execution_count": 49,
     "metadata": {},
     "output_type": "execute_result"
    }
   ],
   "source": [
    "my_tuple"
   ]
  },
  {
   "cell_type": "code",
   "execution_count": 50,
   "id": "f4e6a5fc",
   "metadata": {},
   "outputs": [
    {
     "data": {
      "text/plain": [
       "'moni'"
      ]
     },
     "execution_count": 50,
     "metadata": {},
     "output_type": "execute_result"
    }
   ],
   "source": [
    "my_tuple[0]"
   ]
  },
  {
   "cell_type": "code",
   "execution_count": 51,
   "id": "36d93cfc",
   "metadata": {},
   "outputs": [
    {
     "ename": "AttributeError",
     "evalue": "'tuple' object has no attribute 'add'",
     "output_type": "error",
     "traceback": [
      "\u001b[1;31m---------------------------------------------------------------------------\u001b[0m",
      "\u001b[1;31mAttributeError\u001b[0m                            Traceback (most recent call last)",
      "Cell \u001b[1;32mIn[51], line 1\u001b[0m\n\u001b[1;32m----> 1\u001b[0m my_tuple\u001b[38;5;241m.\u001b[39madd(\u001b[38;5;124m\"\u001b[39m\u001b[38;5;124mpriya\u001b[39m\u001b[38;5;124m\"\u001b[39m)\n",
      "\u001b[1;31mAttributeError\u001b[0m: 'tuple' object has no attribute 'add'"
     ]
    }
   ],
   "source": [
    "my_tuple.add(\"priya\")"
   ]
  },
  {
   "cell_type": "code",
   "execution_count": 52,
   "id": "2a3fa26d",
   "metadata": {},
   "outputs": [
    {
     "ename": "TypeError",
     "evalue": "'tuple' object does not support item assignment",
     "output_type": "error",
     "traceback": [
      "\u001b[1;31m---------------------------------------------------------------------------\u001b[0m",
      "\u001b[1;31mTypeError\u001b[0m                                 Traceback (most recent call last)",
      "Cell \u001b[1;32mIn[52], line 1\u001b[0m\n\u001b[1;32m----> 1\u001b[0m my_tuple[\u001b[38;5;241m1\u001b[39m] \u001b[38;5;241m=\u001b[39m \u001b[38;5;124m\"\u001b[39m\u001b[38;5;124mWorld\u001b[39m\u001b[38;5;124m\"\u001b[39m\n",
      "\u001b[1;31mTypeError\u001b[0m: 'tuple' object does not support item assignment"
     ]
    }
   ],
   "source": [
    "my_tuple[1] = \"World\""
   ]
  },
  {
   "cell_type": "code",
   "execution_count": 53,
   "id": "5b010418",
   "metadata": {},
   "outputs": [
    {
     "ename": "ValueError",
     "evalue": "tuple.index(x): x not in tuple",
     "output_type": "error",
     "traceback": [
      "\u001b[1;31m---------------------------------------------------------------------------\u001b[0m",
      "\u001b[1;31mValueError\u001b[0m                                Traceback (most recent call last)",
      "Cell \u001b[1;32mIn[53], line 1\u001b[0m\n\u001b[1;32m----> 1\u001b[0m my_tuple\u001b[38;5;241m.\u001b[39mindex(\u001b[38;5;124m\"\u001b[39m\u001b[38;5;124mhello\u001b[39m\u001b[38;5;124m\"\u001b[39m)\n",
      "\u001b[1;31mValueError\u001b[0m: tuple.index(x): x not in tuple"
     ]
    }
   ],
   "source": [
    "my_tuple.index(\"hello\")"
   ]
  },
  {
   "cell_type": "code",
   "execution_count": 54,
   "id": "797219aa",
   "metadata": {},
   "outputs": [
    {
     "data": {
      "text/plain": [
       "2"
      ]
     },
     "execution_count": 54,
     "metadata": {},
     "output_type": "execute_result"
    }
   ],
   "source": [
    "my_tuple.index(\"rk\")"
   ]
  },
  {
   "cell_type": "code",
   "execution_count": null,
   "id": "e82389dd",
   "metadata": {},
   "outputs": [],
   "source": []
  }
 ],
 "metadata": {
  "kernelspec": {
   "display_name": "Python 3 (ipykernel)",
   "language": "python",
   "name": "python3"
  },
  "language_info": {
   "codemirror_mode": {
    "name": "ipython",
    "version": 3
   },
   "file_extension": ".py",
   "mimetype": "text/x-python",
   "name": "python",
   "nbconvert_exporter": "python",
   "pygments_lexer": "ipython3",
   "version": "3.11.5"
  }
 },
 "nbformat": 4,
 "nbformat_minor": 5
}
